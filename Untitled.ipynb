{
 "cells": [
  {
   "cell_type": "code",
   "execution_count": 16,
   "metadata": {},
   "outputs": [],
   "source": [
    "import re"
   ]
  },
  {
   "cell_type": "code",
   "execution_count": 122,
   "metadata": {},
   "outputs": [],
   "source": [
    "OPTION_RE = \"([a-zA-Z][0-9]*)=\\(([0-9]+%?),(.+)\\)\"\n",
    "LOTTERY_RE = \"\\[(([a-zA-Z][0-9]*=\\([0-9]*%?,.+\\),?)+)\\]\"\n",
    "OPTION_RE_NG = \"[a-zA-Z][0-9]*=\\([0-9]+%?,.+\\)\"\n",
    "\n",
    "option_string = \"A=(30%,[A1=(18,4),A2=(2,2)])\"\n",
    "lottery_string = \"[A=(30%,[A1=(18,4),A2=(2,2)]),B=(40%,[B1=(80%,2),B2=(20%,3)]),C=(30%,1)]\"\n",
    "\n",
    "dr1 = \"(T1=[A=(60%,3),B=(40%,-1)],T2=[A=(30%,0),B=(70%,1)])\"\n",
    "dr2 = \"(T1=[A=(60%,3),B=(40%,-1)],T2=[A=(30%,0),B=(40%,[B1=(80%,[X=(20%,1),Y=(80%,2)]),B2=(20%,3)]),C=(30%,2)],T3=[A=(100%,1)])\"\n",
    "dr3 = \"(T1=[A=(60%,3),B=(40%,-1)],T2=[A=(3,2),B=(4,1)])\"\n",
    "dr4 = \"(T1=[A=(1,1)],T2=[A=(30%,0),B=(70%,[B1=(3,2),B2=(2,0)])])\""
   ]
  },
  {
   "cell_type": "code",
   "execution_count": 79,
   "metadata": {},
   "outputs": [],
   "source": [
    "class Option:                                                                  \n",
    "    def __init__(self, id, prob, lottery):                                     \n",
    "        self.id = id                                                           \n",
    "        self.prob = prob\n",
    "        self.lottery = lottery                                                 \n",
    "                 \n",
    "    def __repr__(self):\n",
    "        prob = \"\".join([str(int(100 * self.prob)),\"%\"]) if isinstance(self.prob, float) else str(self.prob)\n",
    "        return \"\".join([self.id, \"=(\", prob, \",\", str(self.lottery), \")\"])"
   ]
  },
  {
   "cell_type": "code",
   "execution_count": 77,
   "metadata": {},
   "outputs": [],
   "source": [
    "class Lottery:                                                                 \n",
    "    def __init__(self, options):                                                            \n",
    "        self.options = options                                                 \n",
    "                                 \n",
    "    def __repr__(self):\n",
    "        res = \"[\"\n",
    "        if not isinstance(self.options, int):\n",
    "            return \"\".join([\"[\",\",\".join([str(option) for option in self.options]) ,\"]\"])\n",
    "        else:\n",
    "            return str(self.options)\n",
    "    \n",
    "    def get_utility(self):                                                     \n",
    "        if isinstance(self.options, int):\n",
    "            utility = self.options\n",
    "        else:\n",
    "            utility = 0\n",
    "            mode = \"o\" if isinstance(self.options[0].prob, int) else \"p\"\n",
    "            if mode == \"o\":\n",
    "                ocurrences = sum([option.prob for option in self.options])\n",
    "            \n",
    "            for option in self.options:\n",
    "                prob = (option.prob / occurrences) if mode == \"o\" else option.prob\n",
    "                utility += prob * option.lottery.get_utility()\n",
    "        return utility"
   ]
  },
  {
   "cell_type": "code",
   "execution_count": 10,
   "metadata": {},
   "outputs": [],
   "source": [
    "def string_to_option(string):\n",
    "    p = re.compile(\"([a-zA-Z][0-9]*)=\\(([0-9]*%?),(.+)\\)\")\n",
    "    m = p.match(string)\n",
    "    if not m:\n",
    "        raise Exception(\"Bad input string\") #create an adequate exception\n",
    "    id = m.group(1)\n",
    "    \n",
    "    prob = m.group(2)\n",
    "    if \"%\" in prob:\n",
    "        prob = 0.01 * int(m.group(2)[:-1])\n",
    "    else:\n",
    "        prob = int(m.group(2))\n",
    "        \n",
    "    lottery = string_to_lottery(m.group(3))\n",
    "    \n",
    "    return Option(id, prob, prob_type, lottery)"
   ]
  },
  {
   "cell_type": "code",
   "execution_count": 11,
   "metadata": {},
   "outputs": [],
   "source": [
    "def opposite_par(par):\n",
    "    if par == \"{\":\n",
    "        return \"}\"\n",
    "    elif par == \"(\":\n",
    "        return \")\"\n",
    "    elif par == \"[\":\n",
    "        return \"]\"\n",
    "    return False\n",
    "\n",
    "def find_matching_parenthesis(string, idx):\n",
    "    par = string[idx]\n",
    "    if par not in (\"{\", \"(\", \"[\"):\n",
    "        raise Exception(\"Not a bracket.\")\n",
    "    lvl = 0\n",
    "    for i in range(idx + 1, len(string)):\n",
    "        if string[i] == opposite_par(par):\n",
    "            if lvl == 0:\n",
    "                return i\n",
    "            else:\n",
    "                lvl -= 1\n",
    "        elif string[i] == par:\n",
    "            lvl += 1\n",
    "    return False"
   ]
  },
  {
   "cell_type": "code",
   "execution_count": 103,
   "metadata": {},
   "outputs": [],
   "source": [
    "def string_to_lottery(string):\n",
    "    if re.match(\"-?[0-9]+\", string):\n",
    "        return Lottery(int(string))\n",
    "    options = []\n",
    "    curr_str = \"\"\n",
    "    start = 1\n",
    "    cont = 1\n",
    "    while(cont):\n",
    "        for i in range(start, len(string)-1):\n",
    "            if string[i] != \"(\":\n",
    "                curr_str = \"\".join([curr_str, string[i]]) #append chars until a \"(\" is found\n",
    "            else:\n",
    "                matching_idx = find_matching_parenthesis(string, i)\n",
    "                curr_str = \"\".join([curr_str, string[i:matching_idx+1]])\n",
    "                start = matching_idx + 2 #start parsing again after ,\n",
    "                if start > (len(string) - 1): #check if string has ended\n",
    "                    cont = 0\n",
    "                options.append(curr_str)\n",
    "                curr_str = \"\"\n",
    "                break\n",
    "    \n",
    "    for i in range(len(options)):\n",
    "        options[i] = string_to_option(options[i])\n",
    "        \n",
    "    return Lottery(options)"
   ]
  },
  {
   "cell_type": "code",
   "execution_count": 107,
   "metadata": {},
   "outputs": [],
   "source": [
    "def parse_input(inpt):\n",
    "    tasks = {}\n",
    "    curr_id = \"\"\n",
    "    cont = 1\n",
    "    start = 1\n",
    "    while cont:\n",
    "        for i in range(start, len(inpt)): #remove parenthesis\n",
    "            if inpt[i] != \"=\":\n",
    "                curr_id = \"\".join([curr_id, inpt[i]])\n",
    "            else:\n",
    "                matching_idx = find_matching_parenthesis(inpt, i+1)\n",
    "                tasks[curr_id] = string_to_lottery(inpt[i+1:matching_idx+1])\n",
    "                start = matching_idx + 2\n",
    "                if start > (len(inpt) - 1):\n",
    "                    cont = 0\n",
    "                curr_id = \"\"\n",
    "                break\n",
    "    return tasks"
   ]
  },
  {
   "cell_type": "code",
   "execution_count": 78,
   "metadata": {},
   "outputs": [
    {
     "name": "stdout",
     "output_type": "stream",
     "text": [
      "[A=(30%,[A1=(18,4),A2=(2,2)]),B=(40%,[B1=(80%,2),B2=(20%,3)]),C=(30%,1)]\n"
     ]
    }
   ],
   "source": [
    "lot = string_to_lottery(lottery_string)\n",
    "print(lot)"
   ]
  },
  {
   "cell_type": "code",
   "execution_count": 119,
   "metadata": {},
   "outputs": [],
   "source": [
    "def decide_rational(tasks):\n",
    "    \"\"\"\n",
    "    tasks is a dict\n",
    "    \"\"\"\n",
    "    max_util = None\n",
    "    for key in tasks:\n",
    "        aux_max = tasks[key].get_utility()\n",
    "        if (max_util == None) or aux_max > max_util[1]: #doesn't check second if first is True\n",
    "            max_util = (key, aux_max)\n",
    "    return max_util[0]"
   ]
  },
  {
   "cell_type": "code",
   "execution_count": 120,
   "metadata": {},
   "outputs": [
    {
     "data": {
      "text/plain": [
       "{'T1': [A=(60%,3),B=(40%,-1)], 'T2': [A=(30%,0),B=(70%,1)]}"
      ]
     },
     "execution_count": 120,
     "metadata": {},
     "output_type": "execute_result"
    }
   ],
   "source": [
    "tasks_dr1"
   ]
  },
  {
   "cell_type": "code",
   "execution_count": 124,
   "metadata": {},
   "outputs": [
    {
     "ename": "NameError",
     "evalue": "name 'occurrences' is not defined",
     "output_type": "error",
     "traceback": [
      "\u001b[0;31m---------------------------------------------------------------------------\u001b[0m",
      "\u001b[0;31mNameError\u001b[0m                                 Traceback (most recent call last)",
      "\u001b[0;32m<ipython-input-124-5700fbdf2aff>\u001b[0m in \u001b[0;36m<module>\u001b[0;34m\u001b[0m\n\u001b[0;32m----> 1\u001b[0;31m \u001b[0mdecide_rational\u001b[0m\u001b[0;34m(\u001b[0m\u001b[0mparse_input\u001b[0m\u001b[0;34m(\u001b[0m\u001b[0mdr3\u001b[0m\u001b[0;34m)\u001b[0m\u001b[0;34m)\u001b[0m\u001b[0;34m\u001b[0m\u001b[0m\n\u001b[0m",
      "\u001b[0;32m<ipython-input-119-d446ceb0a319>\u001b[0m in \u001b[0;36mdecide_rational\u001b[0;34m(tasks)\u001b[0m\n\u001b[1;32m      5\u001b[0m     \u001b[0mmax_util\u001b[0m \u001b[0;34m=\u001b[0m \u001b[0;32mNone\u001b[0m\u001b[0;34m\u001b[0m\u001b[0m\n\u001b[1;32m      6\u001b[0m     \u001b[0;32mfor\u001b[0m \u001b[0mkey\u001b[0m \u001b[0;32min\u001b[0m \u001b[0mtasks\u001b[0m\u001b[0;34m:\u001b[0m\u001b[0;34m\u001b[0m\u001b[0m\n\u001b[0;32m----> 7\u001b[0;31m         \u001b[0maux_max\u001b[0m \u001b[0;34m=\u001b[0m \u001b[0mtasks\u001b[0m\u001b[0;34m[\u001b[0m\u001b[0mkey\u001b[0m\u001b[0;34m]\u001b[0m\u001b[0;34m.\u001b[0m\u001b[0mget_utility\u001b[0m\u001b[0;34m(\u001b[0m\u001b[0;34m)\u001b[0m\u001b[0;34m\u001b[0m\u001b[0m\n\u001b[0m\u001b[1;32m      8\u001b[0m         \u001b[0;32mif\u001b[0m \u001b[0;34m(\u001b[0m\u001b[0mmax_util\u001b[0m \u001b[0;34m==\u001b[0m \u001b[0;32mNone\u001b[0m\u001b[0;34m)\u001b[0m \u001b[0;32mor\u001b[0m \u001b[0maux_max\u001b[0m \u001b[0;34m>\u001b[0m \u001b[0mmax_util\u001b[0m\u001b[0;34m[\u001b[0m\u001b[0;36m1\u001b[0m\u001b[0;34m]\u001b[0m\u001b[0;34m:\u001b[0m \u001b[0;31m#doesn't check second if first is True\u001b[0m\u001b[0;34m\u001b[0m\u001b[0m\n\u001b[1;32m      9\u001b[0m             \u001b[0mmax_util\u001b[0m \u001b[0;34m=\u001b[0m \u001b[0;34m(\u001b[0m\u001b[0mkey\u001b[0m\u001b[0;34m,\u001b[0m \u001b[0maux_max\u001b[0m\u001b[0;34m)\u001b[0m\u001b[0;34m\u001b[0m\u001b[0m\n",
      "\u001b[0;32m<ipython-input-77-b0fd3009555b>\u001b[0m in \u001b[0;36mget_utility\u001b[0;34m(self)\u001b[0m\n\u001b[1;32m     20\u001b[0m \u001b[0;34m\u001b[0m\u001b[0m\n\u001b[1;32m     21\u001b[0m             \u001b[0;32mfor\u001b[0m \u001b[0moption\u001b[0m \u001b[0;32min\u001b[0m \u001b[0mself\u001b[0m\u001b[0;34m.\u001b[0m\u001b[0moptions\u001b[0m\u001b[0;34m:\u001b[0m\u001b[0;34m\u001b[0m\u001b[0m\n\u001b[0;32m---> 22\u001b[0;31m                 \u001b[0mprob\u001b[0m \u001b[0;34m=\u001b[0m \u001b[0;34m(\u001b[0m\u001b[0moption\u001b[0m\u001b[0;34m.\u001b[0m\u001b[0mprob\u001b[0m \u001b[0;34m/\u001b[0m \u001b[0moccurrences\u001b[0m\u001b[0;34m)\u001b[0m \u001b[0;32mif\u001b[0m \u001b[0mmode\u001b[0m \u001b[0;34m==\u001b[0m \u001b[0;34m\"o\"\u001b[0m \u001b[0;32melse\u001b[0m \u001b[0moption\u001b[0m\u001b[0;34m.\u001b[0m\u001b[0mprob\u001b[0m\u001b[0;34m\u001b[0m\u001b[0m\n\u001b[0m\u001b[1;32m     23\u001b[0m                 \u001b[0mutility\u001b[0m \u001b[0;34m+=\u001b[0m \u001b[0mprob\u001b[0m \u001b[0;34m*\u001b[0m \u001b[0moption\u001b[0m\u001b[0;34m.\u001b[0m\u001b[0mlottery\u001b[0m\u001b[0;34m.\u001b[0m\u001b[0mget_utility\u001b[0m\u001b[0;34m(\u001b[0m\u001b[0;34m)\u001b[0m\u001b[0;34m\u001b[0m\u001b[0m\n\u001b[1;32m     24\u001b[0m         \u001b[0;32mreturn\u001b[0m \u001b[0mutility\u001b[0m\u001b[0;34m\u001b[0m\u001b[0m\n",
      "\u001b[0;31mNameError\u001b[0m: name 'occurrences' is not defined"
     ]
    }
   ],
   "source": [
    "decide_rational(parse_input(dr3))"
   ]
  },
  {
   "cell_type": "code",
   "execution_count": null,
   "metadata": {},
   "outputs": [],
   "source": []
  }
 ],
 "metadata": {
  "kernelspec": {
   "display_name": "Python 3",
   "language": "python",
   "name": "python3"
  },
  "language_info": {
   "codemirror_mode": {
    "name": "ipython",
    "version": 3
   },
   "file_extension": ".py",
   "mimetype": "text/x-python",
   "name": "python",
   "nbconvert_exporter": "python",
   "pygments_lexer": "ipython3",
   "version": "3.7.0"
  }
 },
 "nbformat": 4,
 "nbformat_minor": 2
}
