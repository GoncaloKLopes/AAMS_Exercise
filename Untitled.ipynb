{
 "cells": [
  {
   "cell_type": "code",
   "execution_count": 4,
   "metadata": {},
   "outputs": [],
   "source": [
    "import re"
   ]
  },
  {
   "cell_type": "code",
   "execution_count": 163,
   "metadata": {},
   "outputs": [],
   "source": [
    "OPTION_RE = \"([a-zA-Z][0-9]*)=\\(([0-9]+%?),(.+)\\)\"\n",
    "LOTTERY_RE = \"\\[(([a-zA-Z][0-9]*=\\([0-9]*%?,.+\\),?)+)\\]\"\n",
    "OPTION_RE_NG = \"[a-zA-Z][0-9]*=\\([0-9]+%?,.+\\)\"\n",
    "\n",
    "option_string = \"A=(30%,[A1=(18,4),A2=(2,2)])\"\n",
    "lottery_string = \"[A=(30%,[A1=(18,4),A2=(2,2)]),B=(40%,[B1=(80%,2),B2=(20%,3)]),C=(30%,1)]\""
   ]
  },
  {
   "cell_type": "code",
   "execution_count": 3,
   "metadata": {},
   "outputs": [],
   "source": [
    "class Option:                                                                  \n",
    "    def __init__(self, id, prob, lottery):                                     \n",
    "        self.id = id                                                           \n",
    "        self.prob = prob                                                       \n",
    "        self.lottery = lottery                                                 \n",
    "                                                                                 \n",
    "    def get_utility(self):                                                     \n",
    "          pass   "
   ]
  },
  {
   "cell_type": "code",
   "execution_count": 201,
   "metadata": {},
   "outputs": [],
   "source": [
    "class Lottery:                                                                 \n",
    "    def __init__(self, options):                                                            \n",
    "        self.options = options                                                 \n",
    "                                                                                \n",
    "    def get_utility(self):                                                     \n",
    "        pass  "
   ]
  },
  {
   "cell_type": "code",
   "execution_count": 20,
   "metadata": {},
   "outputs": [],
   "source": [
    "p = re.compile(\"([a-zA-Z][0-9]*)=\\(([0-9]*)%,(.+)\\)\")\n",
    "m = p.match(string)"
   ]
  },
  {
   "cell_type": "code",
   "execution_count": 25,
   "metadata": {},
   "outputs": [
    {
     "data": {
      "text/plain": [
       "('A', '30', '[A1=(18,4),A2=(2,2)]')"
      ]
     },
     "execution_count": 25,
     "metadata": {},
     "output_type": "execute_result"
    }
   ],
   "source": [
    "m.group(1, 2, 3)"
   ]
  },
  {
   "cell_type": "code",
   "execution_count": 204,
   "metadata": {},
   "outputs": [],
   "source": [
    "def string_to_option(string):\n",
    "    p = re.compile(\"([a-zA-Z][0-9]*)=\\(([0-9]*%?),(.+)\\)\")\n",
    "    m = p.match(string)\n",
    "    if not m:\n",
    "        raise Exception(\"Bad input string\") #create an adequate exception\n",
    "    id = m.group(1)\n",
    "    \n",
    "    prob = m.group(2)\n",
    "    if \"%\" in prob:\n",
    "        prob = 0.01 * int(m.group(2)[:-1])\n",
    "    else:\n",
    "        prob = int(m.group(2))\n",
    "        \n",
    "    lottery = string_to_lottery(m.group(3))\n",
    "    \n",
    "    return Option(id, prob, lottery)"
   ]
  },
  {
   "cell_type": "code",
   "execution_count": 176,
   "metadata": {},
   "outputs": [],
   "source": [
    "def opposite_par(par):\n",
    "    if par == \"{\":\n",
    "        return \"}\"\n",
    "    elif par == \"(\":\n",
    "        return \")\"\n",
    "    elif par == \"[\":\n",
    "        return \"]\"\n",
    "    return False\n",
    "\n",
    "def find_matching_parenthesis(string, idx):\n",
    "    par = string[idx]\n",
    "    if par not in (\"{\", \"(\", \"[\"):\n",
    "        raise Exception(\"Not a bracket.\")\n",
    "    lvl = 0\n",
    "    for i in range(idx + 1, len(string)):\n",
    "        if string[i] == opposite_par(par):\n",
    "            if lvl == 0:\n",
    "                return i\n",
    "            else:\n",
    "                lvl -= 1\n",
    "        elif string[i] == par:\n",
    "            lvl += 1\n",
    "    return False"
   ]
  },
  {
   "cell_type": "code",
   "execution_count": 221,
   "metadata": {},
   "outputs": [],
   "source": [
    "def string_to_lottery(string):\n",
    "    print(string)\n",
    "    if re.match(\"[0-9]+\", string):\n",
    "        return Lottery(int(string))\n",
    "    options = []\n",
    "    curr_str = \"\"\n",
    "    start = 1\n",
    "    cont = 1\n",
    "    while(cont):\n",
    "        for i in range(start, len(string)-1):\n",
    "            if string[i] != \"(\":\n",
    "                curr_str = \"\".join([curr_str, string[i]]) #append chars until a \"(\" is found\n",
    "            else:\n",
    "                matching_idx = find_matching_parenthesis(string, i)\n",
    "                curr_str = \"\".join([curr_str, string[i:matching_idx+1]])\n",
    "                start = matching_idx + 2 #start parsing again after ,\n",
    "                if start > (len(string) - 1): #check if string has ended\n",
    "                    cont = 0\n",
    "                options.append(curr_str)\n",
    "                curr_str = \"\"\n",
    "                break\n",
    "    \n",
    "    for i in range(len(options)):\n",
    "        options[i] = string_to_option(options[i])\n",
    "        \n",
    "    return Lottery(options)"
   ]
  },
  {
   "cell_type": "code",
   "execution_count": 218,
   "metadata": {},
   "outputs": [],
   "source": [
    "lot = string_to_lottery(lottery_string)"
   ]
  },
  {
   "cell_type": "code",
   "execution_count": 230,
   "metadata": {},
   "outputs": [
    {
     "data": {
      "text/plain": [
       "4"
      ]
     },
     "execution_count": 230,
     "metadata": {},
     "output_type": "execute_result"
    }
   ],
   "source": [
    "lot.options[0].lottery.options[0].lottery.options"
   ]
  },
  {
   "cell_type": "code",
   "execution_count": 208,
   "metadata": {},
   "outputs": [
    {
     "ename": "ValueError",
     "evalue": "invalid literal for int() with base 10: 'abc'",
     "output_type": "error",
     "traceback": [
      "\u001b[0;31m---------------------------------------------------------------------------\u001b[0m",
      "\u001b[0;31mValueError\u001b[0m                                Traceback (most recent call last)",
      "\u001b[0;32m<ipython-input-208-2dda1cc00c48>\u001b[0m in \u001b[0;36m<module>\u001b[0;34m\u001b[0m\n\u001b[0;32m----> 1\u001b[0;31m \u001b[0mint\u001b[0m\u001b[0;34m(\u001b[0m\u001b[0;34m\"abc\"\u001b[0m\u001b[0;34m)\u001b[0m\u001b[0;34m\u001b[0m\u001b[0m\n\u001b[0m",
      "\u001b[0;31mValueError\u001b[0m: invalid literal for int() with base 10: 'abc'"
     ]
    }
   ],
   "source": [
    "int(\"abc\")"
   ]
  },
  {
   "cell_type": "code",
   "execution_count": 213,
   "metadata": {},
   "outputs": [
    {
     "name": "stdout",
     "output_type": "stream",
     "text": [
      "2\n"
     ]
    }
   ],
   "source": [
    "if re.match(\"[0-9]+\", \"123\"):\n",
    "    print(2)"
   ]
  },
  {
   "cell_type": "code",
   "execution_count": null,
   "metadata": {},
   "outputs": [],
   "source": []
  }
 ],
 "metadata": {
  "kernelspec": {
   "display_name": "Python 3",
   "language": "python",
   "name": "python3"
  },
  "language_info": {
   "codemirror_mode": {
    "name": "ipython",
    "version": 3
   },
   "file_extension": ".py",
   "mimetype": "text/x-python",
   "name": "python",
   "nbconvert_exporter": "python",
   "pygments_lexer": "ipython3",
   "version": "3.7.0"
  }
 },
 "nbformat": 4,
 "nbformat_minor": 2
}
