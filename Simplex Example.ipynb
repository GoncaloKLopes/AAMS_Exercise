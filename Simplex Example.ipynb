{
 "cells": [
  {
   "cell_type": "code",
   "execution_count": 1,
   "metadata": {},
   "outputs": [],
   "source": [
    "from scipy.optimize import linprog\n",
    "import numpy as np"
   ]
  },
  {
   "cell_type": "markdown",
   "metadata": {},
   "source": [
    "### Example maximization problem\n",
    "\n",
    "Maximize: \n",
    "\n",
    "&emsp;&emsp; 1x + 2.6y + 2z\n",
    "\n",
    "Subject to: \n",
    "\n",
    "&emsp;&emsp; 1x - 1y + 2z = 0 <br>\n",
    "&emsp;&emsp; 1x + 1y + 1z = 1 <br>\n",
    "&emsp;&emsp; x, y, z >= 0\n"
   ]
  },
  {
   "cell_type": "code",
   "execution_count": 2,
   "metadata": {},
   "outputs": [],
   "source": [
    "#maximize coefficients are negated because simplex focues on minimizing\n",
    "c = np.array([-1, -2.6, -2]) \n",
    "#left side coefficients of the constraints\n",
    "A = np.array([[1, -1, 2], [1, 1, 1]])\n",
    "#right side scalars of the constraints\n",
    "b = np.array([0, 1])"
   ]
  },
  {
   "cell_type": "code",
   "execution_count": 3,
   "metadata": {},
   "outputs": [],
   "source": [
    "res = linprog(c, method=\"simplex\", A_eq=A, b_eq=b)"
   ]
  },
  {
   "cell_type": "code",
   "execution_count": 4,
   "metadata": {},
   "outputs": [
    {
     "name": "stdout",
     "output_type": "stream",
     "text": [
      "x0=0.0\n",
      "x1=0.67\n",
      "x2=0.33\n"
     ]
    }
   ],
   "source": [
    "if res.success:\n",
    "    print(f\"x0={round(res.x[0], 2)}\\n\" +\n",
    "          f\"x1={round(res.x[1], 2)}\\n\" + \n",
    "          f\"x2={round(res.x[2], 2)}\")"
   ]
  },
  {
   "cell_type": "code",
   "execution_count": 14,
   "metadata": {},
   "outputs": [
    {
     "data": {
      "text/plain": [
       "     fun: -2.0\n",
       " message: 'Optimization terminated successfully.'\n",
       "     nit: 2\n",
       "   slack: array([2.])\n",
       "  status: 0\n",
       " success: True\n",
       "       x: array([0., 1., 0.])"
      ]
     },
     "execution_count": 14,
     "metadata": {},
     "output_type": "execute_result"
    }
   ],
   "source": [
    "#maximize coefficients are negated because simplex focues on minimizing\n",
    "c = np.array([-1, -2, 1]) \n",
    "#left side coefficients of the constraints\n",
    "A_ub = np.array([[-1, -2, 1]])\n",
    "A_eq = np.array([[1, 1, 1]])\n",
    "#right side scalars of the constraints\n",
    "b_ub = np.array([[0]])\n",
    "b_eq = np.array([[1]])\n",
    "linprog(c, method=\"simplex\", A_ub=A_ub, b_ub=b_ub, A_eq=A_eq, b_eq=b_eq)"
   ]
  },
  {
   "cell_type": "code",
   "execution_count": 19,
   "metadata": {},
   "outputs": [
    {
     "data": {
      "text/plain": [
       "array([[1., 1., 1., 1., 1., 1., 1.]])"
      ]
     },
     "execution_count": 19,
     "metadata": {},
     "output_type": "execute_result"
    }
   ],
   "source": [
    "np.ones((1, 7))"
   ]
  },
  {
   "cell_type": "code",
   "execution_count": 20,
   "metadata": {},
   "outputs": [
    {
     "data": {
      "text/plain": [
       "     fun: -3.0\n",
       " message: 'Optimization terminated successfully.'\n",
       "     nit: 1\n",
       "   slack: array([3.])\n",
       "  status: 0\n",
       " success: True\n",
       "       x: array([1., 0., 0.])"
      ]
     },
     "execution_count": 20,
     "metadata": {},
     "output_type": "execute_result"
    }
   ],
   "source": [
    "#maximize coefficients are negated because simplex focues on minimizing\n",
    "c = np.array([-3, -3, -2]) \n",
    "#left side coefficients of the constraints\n",
    "A_ub = np.array([[-3, -3, -2]])\n",
    "A_eq = np.array([[1, 1, 1]])\n",
    "#right side scalars of the constraints\n",
    "b_ub = np.array([[0]])\n",
    "b_eq = np.array([[1]])\n",
    "linprog(c, method=\"simplex\", A_ub=A_ub, b_ub=b_ub, A_eq=A_eq, b_eq=b_eq)"
   ]
  },
  {
   "cell_type": "code",
   "execution_count": 21,
   "metadata": {},
   "outputs": [
    {
     "data": {
      "text/plain": [
       "     fun: 1.0\n",
       " message: 'Optimization terminated successfully.'\n",
       "     nit: 2\n",
       "   slack: array([], dtype=float64)\n",
       "  status: 0\n",
       " success: True\n",
       "       x: array([0., 1.])"
      ]
     },
     "execution_count": 21,
     "metadata": {},
     "output_type": "execute_result"
    }
   ],
   "source": [
    "#maximize coefficients are negated because simplex focues on minimizing\n",
    "c = np.array([2, 1]) \n",
    "#left side coefficients of the constraints\n",
    "A_eq = np.array([[1, 1]])\n",
    "#right side scalars of the constraints\n",
    "b_eq = np.array([[1]])\n",
    "linprog(c, method=\"simplex\", A_eq=A_eq, b_eq=b_eq)"
   ]
  },
  {
   "cell_type": "code",
   "execution_count": null,
   "metadata": {},
   "outputs": [],
   "source": []
  }
 ],
 "metadata": {
  "kernelspec": {
   "display_name": "Python 3",
   "language": "python",
   "name": "python3"
  },
  "language_info": {
   "codemirror_mode": {
    "name": "ipython",
    "version": 3
   },
   "file_extension": ".py",
   "mimetype": "text/x-python",
   "name": "python",
   "nbconvert_exporter": "python",
   "pygments_lexer": "ipython3",
   "version": "3.7.0"
  }
 },
 "nbformat": 4,
 "nbformat_minor": 2
}
