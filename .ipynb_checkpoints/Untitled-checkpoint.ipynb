{
 "cells": [
  {
   "cell_type": "code",
   "execution_count": 155,
   "metadata": {},
   "outputs": [],
   "source": [
    "import re\n",
    "import copy"
   ]
  },
  {
   "cell_type": "code",
   "execution_count": 174,
   "metadata": {},
   "outputs": [],
   "source": [
    "OPTION_RE = \"([a-zA-Z][0-9]*)=\\(([0-9]+%?),(.+)\\)\"\n",
    "LOTTERY_RE = \"\\[(([a-zA-Z][0-9]*=\\([0-9]*%?,.+\\),?)+)\\]\"\n",
    "UPDATE_RE = \"\\((-?[0-9]+),(.+)\\)\"\n",
    "\n",
    "PROB_TYPE = \"p\"\n",
    "OCCUR_TYPE = \"o\"\n",
    "\n",
    "dr1 = \"(T1=[A=(60%,3),B=(40%,-1)],T2=[A=(30%,0),B=(70%,1)])\"\n",
    "dr2 = \"(T1=[A=(60%,3),B=(40%,-1)],T2=[A=(30%,0),B=(40%,[B1=(80%,[X=(20%,1),Y=(80%,2)]),B2=(20%,3)]),C=(30%,2)],T3=[A=(100%,1)])\"\n",
    "dr3 = \"(T1=[A=(60%,3),B=(40%,-1)],T2=[A=(3,2),B=(4,1)])\"\n",
    "dr4 = \"(T1=[A=(1,1)],T2=[A=(30%,0),B=(70%,[B1=(3,2),B2=(2,0)])])\"\n",
    "\n",
    "up11 = \"(1,T1.X)\"\n",
    "up12 = \"(0,T1.Y)\"\n",
    "up13 = \"(-1,T2.X)\"\n",
    "up14 = \"(1,T1.X)\"\n",
    "\n",
    "up21 = \"(1,T1.B.B1)\"\n",
    "up22 = \"(2,T1.C)\"\n",
    "\n",
    "up31 = \"(2,T1.C.C1)\"\n",
    "up32 = \"(3,T1.C.C2)\"\n",
    "up33 = \"(2,T1.B.B3)\""
   ]
  },
  {
   "cell_type": "code",
   "execution_count": 317,
   "metadata": {},
   "outputs": [],
   "source": [
    "class Option:                                                                  \n",
    "    def __init__(self, id, prob, lottery):                                     \n",
    "        self.id = id                                                           \n",
    "        self.prob = prob\n",
    "        self.lottery = lottery   \n",
    "        self.type = PROB_TYPE if isinstance(self.prob, float) else OCCUR_TYPE\n",
    "                 \n",
    "    def __repr__(self):\n",
    "        prob = \"\".join([str(int(100 * self.prob)),\"%\"]) if isinstance(self.prob, float) else str(self.prob)\n",
    "        return \"\".join([self.id, \"=(\", prob, \",\", str(self.lottery), \")\"])\n",
    "    \n",
    "    def has_nested_occurrences(self):\n",
    "        if isinstance(self.lottery.options, int):\n",
    "            return self.type == OCCUR_TYPE\n",
    "        else:\n",
    "            for option in self.lottery.options:\n",
    "                if option.has_nested_occurrences():\n",
    "                    return True\n",
    "\n",
    "            return False\n",
    "        \n",
    "    def propagate_occur(self):\n",
    "        if self.type == PROB_TYPE:\n",
    "            raise Exception(\"Can't propagate if still a probability.\")\n",
    "        else:\n",
    "            if self.lottery.type == None:\n",
    "                return\n",
    "            else:\n",
    "                for option in self.lottery.options:\n",
    "                    if option.type == PROB_TYPE:\n",
    "                        option.type = self.type\n",
    "                        option.prob = self.prob\n",
    "                    option.propagate_occur()"
   ]
  },
  {
   "cell_type": "code",
   "execution_count": 285,
   "metadata": {},
   "outputs": [],
   "source": [
    "class Lottery:                                                                 \n",
    "    def __init__(self, options):                                                            \n",
    "        self.options = options\n",
    "        if isinstance(self.options, int):\n",
    "            self.type = None\n",
    "        else:\n",
    "            self.type = options[0].type\n",
    "                                 \n",
    "    def __repr__(self):\n",
    "        res = \"[\"\n",
    "        if not self.type == None:\n",
    "            return \"\".join([\"[\",\",\".join([str(option) for option in self.options]) ,\"]\"])\n",
    "        else:\n",
    "            return str(self.options)\n",
    "    \n",
    "    def __getitem__(self, idx):\n",
    "        return self.options[idx]\n",
    "    \n",
    "    def get_utility(self):                                                     \n",
    "        if isinstance(self.options, int):\n",
    "            utility = self.options\n",
    "        else:\n",
    "            utility = 0\n",
    "            if self.type == OCCUR_TYPE:\n",
    "                occurrences = sum([option.prob for option in self.options])\n",
    "            \n",
    "            for option in self.options:\n",
    "                prob = (option.prob / occurrences) if self.type == OCCUR_TYPE else option.prob\n",
    "                utility += prob * option.lottery.get_utility()\n",
    "        return utility\n",
    "    \n",
    "    def get_option(self, id):\n",
    "        for option in self.options:\n",
    "            if option.id == id:\n",
    "                return option\n",
    "        return None\n",
    "    \n",
    "    def add_option(self, option):\n",
    "        options = options.append(option)\n",
    "    "
   ]
  },
  {
   "cell_type": "code",
   "execution_count": 10,
   "metadata": {},
   "outputs": [],
   "source": [
    "def string_to_option(string):\n",
    "    p = re.compile(\"([a-zA-Z][0-9]*)=\\(([0-9]*%?),(.+)\\)\")\n",
    "    m = p.match(string)\n",
    "    if not m:\n",
    "        raise Exception(\"Bad input string\") #create an adequate exception\n",
    "    id = m.group(1)\n",
    "    \n",
    "    prob = m.group(2)\n",
    "    if \"%\" in prob:\n",
    "        prob = 0.01 * int(m.group(2)[:-1])\n",
    "    else:\n",
    "        prob = int(m.group(2))\n",
    "        \n",
    "    lottery = string_to_lottery(m.group(3))\n",
    "    \n",
    "    return Option(id, prob, prob_type, lottery)"
   ]
  },
  {
   "cell_type": "code",
   "execution_count": 11,
   "metadata": {},
   "outputs": [],
   "source": [
    "def opposite_par(par):\n",
    "    if par == \"{\":\n",
    "        return \"}\"\n",
    "    elif par == \"(\":\n",
    "        return \")\"\n",
    "    elif par == \"[\":\n",
    "        return \"]\"\n",
    "    return False\n",
    "\n",
    "def find_matching_parenthesis(string, idx):\n",
    "    par = string[idx]\n",
    "    if par not in (\"{\", \"(\", \"[\"):\n",
    "        raise Exception(\"Not a bracket.\")\n",
    "    lvl = 0\n",
    "    for i in range(idx + 1, len(string)):\n",
    "        if string[i] == opposite_par(par):\n",
    "            if lvl == 0:\n",
    "                return i\n",
    "            else:\n",
    "                lvl -= 1\n",
    "        elif string[i] == par:\n",
    "            lvl += 1\n",
    "    return False"
   ]
  },
  {
   "cell_type": "code",
   "execution_count": 103,
   "metadata": {},
   "outputs": [],
   "source": [
    "def string_to_lottery(string):\n",
    "    if re.match(\"-?[0-9]+\", string):\n",
    "        return Lottery(int(string))\n",
    "    options = []\n",
    "    curr_str = \"\"\n",
    "    start = 1\n",
    "    cont = 1\n",
    "    while(cont):\n",
    "        for i in range(start, len(string)-1):\n",
    "            if string[i] != \"(\":\n",
    "                curr_str = \"\".join([curr_str, string[i]]) #append chars until a \"(\" is found\n",
    "            else:\n",
    "                matching_idx = find_matching_parenthesis(string, i)\n",
    "                curr_str = \"\".join([curr_str, string[i:matching_idx+1]])\n",
    "                start = matching_idx + 2 #start parsing again after ,\n",
    "                if start > (len(string) - 1): #check if string has ended\n",
    "                    cont = 0\n",
    "                options.append(curr_str)\n",
    "                curr_str = \"\"\n",
    "                break\n",
    "    \n",
    "    for i in range(len(options)):\n",
    "        options[i] = string_to_option(options[i])\n",
    "        \n",
    "    return Lottery(options)"
   ]
  },
  {
   "cell_type": "code",
   "execution_count": 107,
   "metadata": {},
   "outputs": [],
   "source": [
    "def parse_input(inpt):\n",
    "    tasks = {}\n",
    "    curr_id = \"\"\n",
    "    cont = 1\n",
    "    start = 1\n",
    "    while cont:\n",
    "        for i in range(start, len(inpt)): #remove parenthesis\n",
    "            if inpt[i] != \"=\":\n",
    "                curr_id = \"\".join([curr_id, inpt[i]])\n",
    "            else:\n",
    "                matching_idx = find_matching_parenthesis(inpt, i+1)\n",
    "                tasks[curr_id] = string_to_lottery(inpt[i+1:matching_idx+1])\n",
    "                start = matching_idx + 2\n",
    "                if start > (len(inpt) - 1):\n",
    "                    cont = 0\n",
    "                curr_id = \"\"\n",
    "                break\n",
    "    return tasks"
   ]
  },
  {
   "cell_type": "code",
   "execution_count": 119,
   "metadata": {},
   "outputs": [],
   "source": [
    "def decide_rational(tasks):\n",
    "    \"\"\"\n",
    "    tasks is a dict\n",
    "    \"\"\"\n",
    "    max_util = None\n",
    "    for key in tasks:\n",
    "        aux_max = tasks[key].get_utility()\n",
    "        if (max_util == None) or aux_max > max_util[1]: #doesn't check second if first is True\n",
    "            max_util = (key, aux_max)\n",
    "    return max_util[0]"
   ]
  },
  {
   "cell_type": "code",
   "execution_count": 361,
   "metadata": {},
   "outputs": [],
   "source": [
    "def update_behavior(tasks, inpt):\n",
    "    pat = re.compile(UPDATE_RE)\n",
    "    match = pat.match(inpt)\n",
    "    \n",
    "    new_lottery = Lottery(int(match.group(1)))\n",
    "    tiers = (match.group(2)).split(\".\")\n",
    "    new_tasks = copy.deepcopy(tasks)\n",
    "    curr_lott = new_tasks[tiers[0]]\n",
    "    new_options = []\n",
    "    \n",
    "    if len(tiers) > 1:\n",
    "        for tier in tiers[1:-1]:\n",
    "            #as we progress through the tiers, check every option and verify if\n",
    "            #it's a probability or if it has nested occurrence options,\n",
    "            #creating a new list of updated options\n",
    "            for option in curr_lott.options:\n",
    "                if option.id == tier:\n",
    "                    if option.type == OCCUR_TYPE:\n",
    "                        option.prob += 1\n",
    "                    else:\n",
    "                        option.prob = 1\n",
    "                        option.type = OCCUR_TYPE\n",
    "                        curr_lott.type = OCCUR_TYPE\n",
    "                        option.propagate_occur()\n",
    "                elif option.type == OCCUR_TYPE:\n",
    "                    pass #will be appended after this big if\n",
    "                elif option.has_nested_occurrences() and option.type == PROB_TYPE:\n",
    "                    option.prob = 0\n",
    "                    option.type = OCCUR_TYPE\n",
    "                    option.propagate_occur()\n",
    "                else:\n",
    "                    continue\n",
    "                new_options.append(option)\n",
    "            curr_lott.options = new_options\n",
    "            new_options = []\n",
    "            curr_lott = (curr_lott.get_option(tier)).lottery\n",
    "            \n",
    "            \n",
    "    if curr_lott.type == PROB_TYPE or curr_lott.type == None:\n",
    "        curr_lott.options = [Option(tiers[-1], 1, new_lottery)]\n",
    "        curr_lott.type = OCCUR_TYPE\n",
    "        curr_lott.prob = 1\n",
    "    else:\n",
    "        old_option = curr_lott.get_option(tiers[-1])\n",
    "        if old_option == None:\n",
    "            (curr_lott.options).append(Option(tiers[-1], 1, new_lottery))\n",
    "        else:\n",
    "            old_option.prob += 1\n",
    "            \n",
    "    return new_tasks"
   ]
  },
  {
   "cell_type": "code",
   "execution_count": 357,
   "metadata": {},
   "outputs": [
    {
     "name": "stdout",
     "output_type": "stream",
     "text": [
      "{'T1': [A=(60%,3),B=(40%,-1)], 'T2': [A=(30%,0),B=(70%,1)]}\n",
      "{'T1': [X=(1,1)], 'T2': [A=(30%,0),B=(70%,1)]}\n",
      "{'T1': [X=(1,1),Y=(1,0)], 'T2': [A=(30%,0),B=(70%,1)]}\n",
      "{'T1': [X=(1,1),Y=(1,0)], 'T2': [X=(1,-1)]}\n",
      "{'T1': [X=(2,1),Y=(1,0)], 'T2': [X=(1,-1)]}\n"
     ]
    }
   ],
   "source": [
    "tasks = parse_input(dr1)\n",
    "print(tasks)\n",
    "tasks = update_behavior(tasks, up11)\n",
    "print(tasks)\n",
    "tasks = update_behavior(tasks, up12)\n",
    "print(tasks)\n",
    "tasks = update_behavior(tasks, up13)\n",
    "print(tasks)\n",
    "tasks = update_behavior(tasks, up14)\n",
    "print(tasks)"
   ]
  },
  {
   "cell_type": "code",
   "execution_count": 360,
   "metadata": {},
   "outputs": [
    {
     "name": "stdout",
     "output_type": "stream",
     "text": [
      "{'T1': [A=(30%,0),B=(40%,[B1=(2,1),B2=(1,-1)]),C=(30%,-2)]}\n",
      "{'T1': [B=(1,[B1=(3,1),B2=(1,-1)])]}\n",
      "{'T1': [B=(1,[B1=(3,1),B2=(1,-1)]),C=(1,2)]}\n"
     ]
    }
   ],
   "source": [
    "tasks = parse_input(\"(T1=[A=(30%,0),B=(40%,[B1=(2,1),B2=(1,-1)]),C=(30%,-2)])\")\n",
    "print(tasks)\n",
    "tasks = update_behavior(tasks, up21)\n",
    "print(tasks)\n",
    "tasks = update_behavior(tasks, up22)\n",
    "print(tasks)"
   ]
  },
  {
   "cell_type": "code",
   "execution_count": 359,
   "metadata": {},
   "outputs": [
    {
     "name": "stdout",
     "output_type": "stream",
     "text": [
      "{'T1': [A=(30%,0),B=(40%,[B1=(2,1),B2=(1,-1)]),C=(30%,-2)]}\n",
      "{'T1': [B=(0,[B1=(2,1),B2=(1,-1)]),C=(1,[C1=(1,2)])]}\n",
      "{'T1': [B=(0,[B1=(2,1),B2=(1,-1)]),C=(2,[C1=(1,2),C2=(1,3)])]}\n",
      "{'T1': [B=(1,[B1=(2,1),B2=(1,-1),B3=(1,2)]),C=(2,[C1=(1,2),C2=(1,3)])]}\n"
     ]
    }
   ],
   "source": [
    "tasks = parse_input(\"(T1=[A=(30%,0),B=(40%,[B1=(2,1),B2=(1,-1)]),C=(30%,-2)])\")\n",
    "print(tasks)\n",
    "tasks = update_behavior(tasks, up31)\n",
    "print(tasks)\n",
    "tasks = update_behavior(tasks, up32)\n",
    "print(tasks)\n",
    "tasks = update_behavior(tasks, up33)\n",
    "print(tasks)"
   ]
  },
  {
   "cell_type": "code",
   "execution_count": 312,
   "metadata": {},
   "outputs": [
    {
     "name": "stdout",
     "output_type": "stream",
     "text": [
      "{'T1': [A=(30%,0),B=(40%,[B1=(2,1),B2=(1,-1)]),C=(30%,-2)]}\n",
      "[B1=(2,1),B2=(1,-1)]\n"
     ]
    },
    {
     "data": {
      "text/plain": [
       "True"
      ]
     },
     "execution_count": 312,
     "metadata": {},
     "output_type": "execute_result"
    }
   ],
   "source": [
    "tasks = parse_input(\"(T1=[A=(30%,0),B=(40%,[B1=(2,1),B2=(1,-1)]),C=(30%,-2)])\")\n",
    "print(tasks)\n",
    "tasks[\"T1\"][1].has_nested_occurrences()"
   ]
  }
 ],
 "metadata": {
  "kernelspec": {
   "display_name": "Python 3",
   "language": "python",
   "name": "python3"
  },
  "language_info": {
   "codemirror_mode": {
    "name": "ipython",
    "version": 3
   },
   "file_extension": ".py",
   "mimetype": "text/x-python",
   "name": "python",
   "nbconvert_exporter": "python",
   "pygments_lexer": "ipython3",
   "version": "3.7.0"
  }
 },
 "nbformat": 4,
 "nbformat_minor": 2
}
