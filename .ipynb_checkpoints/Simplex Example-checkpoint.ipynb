{
 "cells": [
  {
   "cell_type": "code",
   "execution_count": 12,
   "metadata": {},
   "outputs": [],
   "source": [
    "from scipy.optimize import linprog\n",
    "import numpy as np"
   ]
  },
  {
   "cell_type": "markdown",
   "metadata": {},
   "source": [
    "### Example maximization problem\n",
    "\n",
    "<span style=\"color:blue\">Maximize</span>: \n",
    "\n",
    "&emsp;&emsp; <font color=green>1</font>x0 + <font color=green>2.6</font>x1 + <font color=green>2</font>x2\n",
    "\n",
    "<font color=blue>Subject to</font>: \n",
    "\n",
    "&emsp;&emsp; <font color=green>1</font>x0 - <font color=green>1</font>x1 + <font color=green>2</font>x2 = <font color=green>0</font>\n",
    "&emsp;&emsp; <font color=green>1</font>x0 + <font color=green>1</font>x1 + <font color=green>1</font>x2 = <font color=green>1</font>\n",
    "&emsp;&emsp; x, y, z >= 0\n"
   ]
  },
  {
   "cell_type": "code",
   "execution_count": 31,
   "metadata": {},
   "outputs": [],
   "source": [
    "#maximize coefficients are negated because simplex focues on minimizing\n",
    "c = np.array([-1, -2.6, -2]) \n",
    "#left side coefficients of the constraints\n",
    "A = np.array([[1, -1, 2], [1, 1, 1]])\n",
    "#right side scalars of the constraints\n",
    "b = np.array([0, 1])"
   ]
  },
  {
   "cell_type": "code",
   "execution_count": 14,
   "metadata": {},
   "outputs": [],
   "source": [
    "res = linprog(c, method=\"simplex\", A_eq=A, b_eq=b)"
   ]
  },
  {
   "cell_type": "code",
   "execution_count": 29,
   "metadata": {},
   "outputs": [
    {
     "name": "stdout",
     "output_type": "stream",
     "text": [
      "x0=0.0\n",
      "x1=0.67\n",
      "x2=0.33\n"
     ]
    }
   ],
   "source": [
    "if res.success:\n",
    "    print(f\"x0={round(res.x[0], 2)}\\n\" +\n",
    "          f\"x1={round(res.x[1], 2)}\\n\" + \n",
    "          f\"x2={round(res.x[2], 2)}\")"
   ]
  },
  {
   "cell_type": "code",
   "execution_count": null,
   "metadata": {},
   "outputs": [],
   "source": []
  }
 ],
 "metadata": {
  "kernelspec": {
   "display_name": "Python 3",
   "language": "python",
   "name": "python3"
  },
  "language_info": {
   "codemirror_mode": {
    "name": "ipython",
    "version": 3
   },
   "file_extension": ".py",
   "mimetype": "text/x-python",
   "name": "python",
   "nbconvert_exporter": "python",
   "pygments_lexer": "ipython3",
   "version": "3.7.0"
  }
 },
 "nbformat": 4,
 "nbformat_minor": 2
}
