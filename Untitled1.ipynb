{
 "cells": [
  {
   "cell_type": "code",
   "execution_count": 2,
   "metadata": {},
   "outputs": [],
   "source": [
    "import simplex2"
   ]
  },
  {
   "cell_type": "code",
   "execution_count": 7,
   "metadata": {},
   "outputs": [],
   "source": [
    "c = [3, 3, 2, 3]\n",
    "A = [[1, -1, 0, 0], [0, 1, 0, -1], [1, 0, 0, -1], [1, 1, 1, 1]]\n",
    "b = [0, 0, 0, 1]"
   ]
  },
  {
   "cell_type": "code",
   "execution_count": 8,
   "metadata": {},
   "outputs": [
    {
     "name": "stdout",
     "output_type": "stream",
     "text": [
      "Initial tableau:\n",
      "[1, -1, 0, 0, 0]\n",
      "[0, 1, 0, -1, 0]\n",
      "[1, 0, 0, -1, 0]\n",
      "[1, 1, 1, 1, 1]\n",
      "[3, 3, 2, 3, 0]\n",
      "\n",
      "Next pivot index is=3,2 \n",
      "\n",
      "Tableau after pivot:\n",
      "[1.0, -1.0, 0.0, 0.0, 0.0]\n",
      "[0.0, 1.0, 0.0, -1.0, 0.0]\n",
      "[1.0, 0.0, 0.0, -1.0, 0.0]\n",
      "[1.0, 1.0, 1.0, 1.0, 1.0]\n",
      "[1.0, 1.0, 0.0, 1.0, -2.0]\n",
      "\n",
      "Next pivot index is=0,0 \n",
      "\n",
      "Tableau after pivot:\n",
      "[1.0, -1.0, 0.0, 0.0, 0.0]\n",
      "[0.0, 1.0, 0.0, -1.0, 0.0]\n",
      "[0.0, 1.0, 0.0, -1.0, 0.0]\n",
      "[0.0, 2.0, 1.0, 1.0, 1.0]\n",
      "[0.0, 2.0, 0.0, 1.0, -2.0]\n",
      "\n",
      "Next pivot index is=3,3 \n",
      "\n",
      "Tableau after pivot:\n",
      "[1.0, -1.0, 0.0, 0.0, 0.0]\n",
      "[0.0, 3.0, 1.0, 0.0, 1.0]\n",
      "[0.0, 3.0, 1.0, 0.0, 1.0]\n",
      "[0.0, 2.0, 1.0, 1.0, 1.0]\n",
      "[0.0, 0.0, -1.0, 0.0, -3.0]\n",
      "\n"
     ]
    }
   ],
   "source": [
    "t, s, v = simplex2.simplex(c, A, b)"
   ]
  },
  {
   "cell_type": "code",
   "execution_count": 9,
   "metadata": {},
   "outputs": [
    {
     "data": {
      "text/plain": [
       "[[1.0, -1.0, 0.0, 0.0, 0.0],\n",
       " [0.0, 3.0, 1.0, 0.0, 1.0],\n",
       " [0.0, 3.0, 1.0, 0.0, 1.0],\n",
       " [0.0, 2.0, 1.0, 1.0, 1.0],\n",
       " [0.0, 0.0, -1.0, 0.0, -3.0]]"
      ]
     },
     "execution_count": 9,
     "metadata": {},
     "output_type": "execute_result"
    }
   ],
   "source": [
    "t"
   ]
  },
  {
   "cell_type": "code",
   "execution_count": 10,
   "metadata": {},
   "outputs": [
    {
     "data": {
      "text/plain": [
       "[(0, 0.0), (3, 1.0)]"
      ]
     },
     "execution_count": 10,
     "metadata": {},
     "output_type": "execute_result"
    }
   ],
   "source": [
    "s"
   ]
  },
  {
   "cell_type": "code",
   "execution_count": 11,
   "metadata": {},
   "outputs": [
    {
     "data": {
      "text/plain": [
       "3.0"
      ]
     },
     "execution_count": 11,
     "metadata": {},
     "output_type": "execute_result"
    }
   ],
   "source": [
    "v"
   ]
  },
  {
   "cell_type": "code",
   "execution_count": null,
   "metadata": {},
   "outputs": [],
   "source": []
  }
 ],
 "metadata": {
  "kernelspec": {
   "display_name": "Python 3",
   "language": "python",
   "name": "python3"
  },
  "language_info": {
   "codemirror_mode": {
    "name": "ipython",
    "version": 3
   },
   "file_extension": ".py",
   "mimetype": "text/x-python",
   "name": "python",
   "nbconvert_exporter": "python",
   "pygments_lexer": "ipython3",
   "version": "3.7.0"
  }
 },
 "nbformat": 4,
 "nbformat_minor": 2
}
